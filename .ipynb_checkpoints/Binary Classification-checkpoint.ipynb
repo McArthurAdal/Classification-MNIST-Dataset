{
 "cells": [
  {
   "cell_type": "markdown",
   "id": "7735e4ce-661c-4662-a213-a0d6bcafefdb",
   "metadata": {
    "tags": []
   },
   "source": [
    "# Loading the MNIST dataset\n",
    "\n",
    "scikit-learn provides helper functions to download popular datasets"
   ]
  },
  {
   "cell_type": "code",
   "execution_count": 1,
   "id": "a0a8e910-938e-423a-9dd4-fb8dcda846ae",
   "metadata": {},
   "outputs": [
    {
     "name": "stdout",
     "output_type": "stream",
     "text": [
      "Exception reporting mode: Plain\n"
     ]
    }
   ],
   "source": [
    "%xmode Plain"
   ]
  },
  {
   "cell_type": "code",
   "execution_count": 2,
   "id": "e1a0b015-1eb5-4915-a959-32fe8ed2abba",
   "metadata": {},
   "outputs": [],
   "source": [
    "#%%memit\n",
    "#from sklearn.datasets import fetch_openml\n",
    "#mnist = fetch_openml('mnist_784',version=1)"
   ]
  },
  {
   "cell_type": "code",
   "execution_count": 3,
   "id": "4bf8c277-7f2c-4c0e-a5a1-1fef1808aa49",
   "metadata": {},
   "outputs": [],
   "source": [
    "#mnist in this case is a Bunch, it is a container object exposing keys as attributes\n",
    "#A Bunch extends dictionaries by enabling values to be accessed by key bunch['key'],bunch.key\n",
    "#mnist.keys()"
   ]
  },
  {
   "cell_type": "markdown",
   "id": "f168c353-5460-4de0-ac16-ab61faa9d720",
   "metadata": {},
   "source": [
    "There are 70,000 images, and each image has 784 features. This is because each image is 28 × 28 pixels, and each feature simply represents one pixel’s intensity, from 0 (white) to 255 (black)."
   ]
  },
  {
   "cell_type": "code",
   "execution_count": 4,
   "id": "63e9fd19-3f65-46b3-91c1-9b369a859987",
   "metadata": {},
   "outputs": [],
   "source": [
    "#X, y = mnist[\"data\"], mnist[\"target\"]\n",
    "#X.to_csv('mnist_features.csv',mode='w',chunksize=35000)\n",
    "#y.to_csv('mnist_target.csv')\n",
    "#y.to_csv?"
   ]
  },
  {
   "cell_type": "code",
   "execution_count": 5,
   "id": "f0837006-394f-4fa4-8235-9ca0ddfa7586",
   "metadata": {},
   "outputs": [],
   "source": [
    "#Created dataset because fetch_openml is taking too long to compute\n",
    "import pandas as pd\n",
    "\n",
    "X = pd.read_csv('mnist_features.csv', index_col=0)"
   ]
  },
  {
   "cell_type": "code",
   "execution_count": 6,
   "id": "6e65a6a0-3dd4-474e-a2b8-a92f9b74130e",
   "metadata": {},
   "outputs": [
    {
     "data": {
      "text/html": [
       "<div>\n",
       "<style scoped>\n",
       "    .dataframe tbody tr th:only-of-type {\n",
       "        vertical-align: middle;\n",
       "    }\n",
       "\n",
       "    .dataframe tbody tr th {\n",
       "        vertical-align: top;\n",
       "    }\n",
       "\n",
       "    .dataframe thead th {\n",
       "        text-align: right;\n",
       "    }\n",
       "</style>\n",
       "<table border=\"1\" class=\"dataframe\">\n",
       "  <thead>\n",
       "    <tr style=\"text-align: right;\">\n",
       "      <th></th>\n",
       "      <th>pixel1</th>\n",
       "      <th>pixel2</th>\n",
       "      <th>pixel3</th>\n",
       "      <th>pixel4</th>\n",
       "      <th>pixel5</th>\n",
       "      <th>pixel6</th>\n",
       "      <th>pixel7</th>\n",
       "      <th>pixel8</th>\n",
       "      <th>pixel9</th>\n",
       "      <th>pixel10</th>\n",
       "      <th>...</th>\n",
       "      <th>pixel775</th>\n",
       "      <th>pixel776</th>\n",
       "      <th>pixel777</th>\n",
       "      <th>pixel778</th>\n",
       "      <th>pixel779</th>\n",
       "      <th>pixel780</th>\n",
       "      <th>pixel781</th>\n",
       "      <th>pixel782</th>\n",
       "      <th>pixel783</th>\n",
       "      <th>pixel784</th>\n",
       "    </tr>\n",
       "  </thead>\n",
       "  <tbody>\n",
       "    <tr>\n",
       "      <th>0</th>\n",
       "      <td>0.0</td>\n",
       "      <td>0.0</td>\n",
       "      <td>0.0</td>\n",
       "      <td>0.0</td>\n",
       "      <td>0.0</td>\n",
       "      <td>0.0</td>\n",
       "      <td>0.0</td>\n",
       "      <td>0.0</td>\n",
       "      <td>0.0</td>\n",
       "      <td>0.0</td>\n",
       "      <td>...</td>\n",
       "      <td>0.0</td>\n",
       "      <td>0.0</td>\n",
       "      <td>0.0</td>\n",
       "      <td>0.0</td>\n",
       "      <td>0.0</td>\n",
       "      <td>0.0</td>\n",
       "      <td>0.0</td>\n",
       "      <td>0.0</td>\n",
       "      <td>0.0</td>\n",
       "      <td>0.0</td>\n",
       "    </tr>\n",
       "    <tr>\n",
       "      <th>1</th>\n",
       "      <td>0.0</td>\n",
       "      <td>0.0</td>\n",
       "      <td>0.0</td>\n",
       "      <td>0.0</td>\n",
       "      <td>0.0</td>\n",
       "      <td>0.0</td>\n",
       "      <td>0.0</td>\n",
       "      <td>0.0</td>\n",
       "      <td>0.0</td>\n",
       "      <td>0.0</td>\n",
       "      <td>...</td>\n",
       "      <td>0.0</td>\n",
       "      <td>0.0</td>\n",
       "      <td>0.0</td>\n",
       "      <td>0.0</td>\n",
       "      <td>0.0</td>\n",
       "      <td>0.0</td>\n",
       "      <td>0.0</td>\n",
       "      <td>0.0</td>\n",
       "      <td>0.0</td>\n",
       "      <td>0.0</td>\n",
       "    </tr>\n",
       "    <tr>\n",
       "      <th>2</th>\n",
       "      <td>0.0</td>\n",
       "      <td>0.0</td>\n",
       "      <td>0.0</td>\n",
       "      <td>0.0</td>\n",
       "      <td>0.0</td>\n",
       "      <td>0.0</td>\n",
       "      <td>0.0</td>\n",
       "      <td>0.0</td>\n",
       "      <td>0.0</td>\n",
       "      <td>0.0</td>\n",
       "      <td>...</td>\n",
       "      <td>0.0</td>\n",
       "      <td>0.0</td>\n",
       "      <td>0.0</td>\n",
       "      <td>0.0</td>\n",
       "      <td>0.0</td>\n",
       "      <td>0.0</td>\n",
       "      <td>0.0</td>\n",
       "      <td>0.0</td>\n",
       "      <td>0.0</td>\n",
       "      <td>0.0</td>\n",
       "    </tr>\n",
       "    <tr>\n",
       "      <th>3</th>\n",
       "      <td>0.0</td>\n",
       "      <td>0.0</td>\n",
       "      <td>0.0</td>\n",
       "      <td>0.0</td>\n",
       "      <td>0.0</td>\n",
       "      <td>0.0</td>\n",
       "      <td>0.0</td>\n",
       "      <td>0.0</td>\n",
       "      <td>0.0</td>\n",
       "      <td>0.0</td>\n",
       "      <td>...</td>\n",
       "      <td>0.0</td>\n",
       "      <td>0.0</td>\n",
       "      <td>0.0</td>\n",
       "      <td>0.0</td>\n",
       "      <td>0.0</td>\n",
       "      <td>0.0</td>\n",
       "      <td>0.0</td>\n",
       "      <td>0.0</td>\n",
       "      <td>0.0</td>\n",
       "      <td>0.0</td>\n",
       "    </tr>\n",
       "    <tr>\n",
       "      <th>4</th>\n",
       "      <td>0.0</td>\n",
       "      <td>0.0</td>\n",
       "      <td>0.0</td>\n",
       "      <td>0.0</td>\n",
       "      <td>0.0</td>\n",
       "      <td>0.0</td>\n",
       "      <td>0.0</td>\n",
       "      <td>0.0</td>\n",
       "      <td>0.0</td>\n",
       "      <td>0.0</td>\n",
       "      <td>...</td>\n",
       "      <td>0.0</td>\n",
       "      <td>0.0</td>\n",
       "      <td>0.0</td>\n",
       "      <td>0.0</td>\n",
       "      <td>0.0</td>\n",
       "      <td>0.0</td>\n",
       "      <td>0.0</td>\n",
       "      <td>0.0</td>\n",
       "      <td>0.0</td>\n",
       "      <td>0.0</td>\n",
       "    </tr>\n",
       "  </tbody>\n",
       "</table>\n",
       "<p>5 rows × 784 columns</p>\n",
       "</div>"
      ],
      "text/plain": [
       "   pixel1  pixel2  pixel3  pixel4  pixel5  pixel6  pixel7  pixel8  pixel9  \\\n",
       "0     0.0     0.0     0.0     0.0     0.0     0.0     0.0     0.0     0.0   \n",
       "1     0.0     0.0     0.0     0.0     0.0     0.0     0.0     0.0     0.0   \n",
       "2     0.0     0.0     0.0     0.0     0.0     0.0     0.0     0.0     0.0   \n",
       "3     0.0     0.0     0.0     0.0     0.0     0.0     0.0     0.0     0.0   \n",
       "4     0.0     0.0     0.0     0.0     0.0     0.0     0.0     0.0     0.0   \n",
       "\n",
       "   pixel10  ...  pixel775  pixel776  pixel777  pixel778  pixel779  pixel780  \\\n",
       "0      0.0  ...       0.0       0.0       0.0       0.0       0.0       0.0   \n",
       "1      0.0  ...       0.0       0.0       0.0       0.0       0.0       0.0   \n",
       "2      0.0  ...       0.0       0.0       0.0       0.0       0.0       0.0   \n",
       "3      0.0  ...       0.0       0.0       0.0       0.0       0.0       0.0   \n",
       "4      0.0  ...       0.0       0.0       0.0       0.0       0.0       0.0   \n",
       "\n",
       "   pixel781  pixel782  pixel783  pixel784  \n",
       "0       0.0       0.0       0.0       0.0  \n",
       "1       0.0       0.0       0.0       0.0  \n",
       "2       0.0       0.0       0.0       0.0  \n",
       "3       0.0       0.0       0.0       0.0  \n",
       "4       0.0       0.0       0.0       0.0  \n",
       "\n",
       "[5 rows x 784 columns]"
      ]
     },
     "execution_count": 6,
     "metadata": {},
     "output_type": "execute_result"
    }
   ],
   "source": [
    "X.head()"
   ]
  },
  {
   "cell_type": "code",
   "execution_count": 7,
   "id": "5c9cb206-1cad-40ec-9fe7-d221d3fc81f6",
   "metadata": {},
   "outputs": [],
   "source": [
    "y = pd.read_csv('mnist_target.csv',index_col=0,dtype='int64')"
   ]
  },
  {
   "cell_type": "code",
   "execution_count": 8,
   "id": "2980a1a8-e0b6-4507-b314-44be5bd2bc23",
   "metadata": {},
   "outputs": [
    {
     "data": {
      "text/html": [
       "<div>\n",
       "<style scoped>\n",
       "    .dataframe tbody tr th:only-of-type {\n",
       "        vertical-align: middle;\n",
       "    }\n",
       "\n",
       "    .dataframe tbody tr th {\n",
       "        vertical-align: top;\n",
       "    }\n",
       "\n",
       "    .dataframe thead th {\n",
       "        text-align: right;\n",
       "    }\n",
       "</style>\n",
       "<table border=\"1\" class=\"dataframe\">\n",
       "  <thead>\n",
       "    <tr style=\"text-align: right;\">\n",
       "      <th></th>\n",
       "      <th>class</th>\n",
       "    </tr>\n",
       "  </thead>\n",
       "  <tbody>\n",
       "    <tr>\n",
       "      <th>0</th>\n",
       "      <td>5</td>\n",
       "    </tr>\n",
       "    <tr>\n",
       "      <th>1</th>\n",
       "      <td>0</td>\n",
       "    </tr>\n",
       "    <tr>\n",
       "      <th>2</th>\n",
       "      <td>4</td>\n",
       "    </tr>\n",
       "    <tr>\n",
       "      <th>3</th>\n",
       "      <td>1</td>\n",
       "    </tr>\n",
       "    <tr>\n",
       "      <th>4</th>\n",
       "      <td>9</td>\n",
       "    </tr>\n",
       "  </tbody>\n",
       "</table>\n",
       "</div>"
      ],
      "text/plain": [
       "   class\n",
       "0      5\n",
       "1      0\n",
       "2      4\n",
       "3      1\n",
       "4      9"
      ]
     },
     "execution_count": 8,
     "metadata": {},
     "output_type": "execute_result"
    }
   ],
   "source": [
    "y.head()"
   ]
  },
  {
   "cell_type": "code",
   "execution_count": 9,
   "id": "b96a3be7-19c9-495f-845e-2642071c9fac",
   "metadata": {},
   "outputs": [],
   "source": [
    "#full_df = X.join(y, how='inner')\n",
    "#full_df.shape"
   ]
  },
  {
   "cell_type": "code",
   "execution_count": 10,
   "id": "05b5423d-5807-4e14-8c08-e60c47413a64",
   "metadata": {},
   "outputs": [],
   "source": [
    "#full_df.to_csv('mnist_dataset.csv')"
   ]
  },
  {
   "cell_type": "markdown",
   "id": "40991375-47ac-4eca-883b-23c3be441fb1",
   "metadata": {},
   "source": [
    "# Sample Digit"
   ]
  },
  {
   "cell_type": "code",
   "execution_count": 11,
   "id": "a2e44918-1b70-442a-a529-c75560e18f41",
   "metadata": {},
   "outputs": [
    {
     "data": {
      "image/png": "[encoded data removed]",
      "text/plain": [
       "<Figure size 432x288 with 1 Axes>"
      ]
     },
     "metadata": {
      "needs_background": "light"
     },
     "output_type": "display_data"
    }
   ],
   "source": [
    "import matplotlib.pyplot as plt\n",
    "\n",
    "some_digit = X.iloc[0].to_numpy() \n",
    "some_digit_image = some_digit.reshape(28,28)\n",
    "\n",
    "plt.imshow(some_digit_image, cmap='binary')\n",
    "plt.axis(\"off\")\n",
    "plt.show()"
   ]
  },
  {
   "cell_type": "code",
   "execution_count": 12,
   "id": "5dd00fbf-c950-46b8-b260-d1f6133bc73c",
   "metadata": {},
   "outputs": [
    {
     "data": {
      "text/plain": [
       "array([5], dtype=int64)"
      ]
     },
     "execution_count": 12,
     "metadata": {},
     "output_type": "execute_result"
    }
   ],
   "source": [
    "y.iloc[0].values"
   ]
  },
  {
   "cell_type": "code",
   "execution_count": 13,
   "id": "d4752801-df5d-4deb-ae15-f43cfc555760",
   "metadata": {},
   "outputs": [],
   "source": [
    "X_train, X_test, y_train, y_test = X[:60000], X[60000:],y[:60000],y[60000:]"
   ]
  },
  {
   "cell_type": "markdown",
   "id": "1e647b4c-ad5e-4e00-8fce-85cabe97a115",
   "metadata": {},
   "source": [
    "The training set is already shuffled so all cross-validation folds will be similar\n",
    "\n",
    "Shuffling may be a bad idea in some contexts—for example, if you are working on time series data (such as stock market prices or weather conditions). We will explore this in the next chapters.\n"
   ]
  },
  {
   "cell_type": "markdown",
   "id": "bca54564-dae3-418f-ac88-c3e36e695786",
   "metadata": {},
   "source": [
    "# Training a Binary Classifier\n",
    "\n",
    "This classifier tries to identfiy the digit '5'\n",
    "\n",
    "A good place to start is with a Stochastic Gradient Descent (SGD) classifier, using Scikit-Learn’s SGDClassifier class. This classifier has the advantage of being capable of handling very large datasets efficiently. This is in part because SGD deals\n",
    "with training instances independently, one at a time\n",
    "\n",
    "The SGDClassifier relies on randomness during training (hence the name “stochastic”). If you want reproducible results, you should set the random_state parameter."
   ]
  },
  {
   "cell_type": "code",
   "execution_count": 14,
   "id": "ac02a712-8347-438e-866d-4fd538b756b9",
   "metadata": {},
   "outputs": [],
   "source": [
    "# The operation below will result in True/False values, which are internally binary values 1/0 hence the binary classifier\n",
    "y_train_5 = pd.array((y_train == 5),dtype='bool').reshape(60000,)\n",
    "y_test_5 = (y_test == 5)"
   ]
  },
  {
   "cell_type": "code",
   "execution_count": 15,
   "id": "7dd22a03-b3a2-40de-bcb9-049dc1130500",
   "metadata": {},
   "outputs": [
    {
     "data": {
      "text/plain": [
       "SGDClassifier(random_state=42)"
      ]
     },
     "execution_count": 15,
     "metadata": {},
     "output_type": "execute_result"
    }
   ],
   "source": [
    "from sklearn.linear_model import SGDClassifier\n",
    "\n",
    "sgd_clf = SGDClassifier(random_state=42)\n",
    "sgd_clf.fit(X_train, y_train_5)"
   ]
  },
  {
   "cell_type": "code",
   "execution_count": 16,
   "id": "3c0deeb5-86fb-495a-af1d-98f15e295f42",
   "metadata": {},
   "outputs": [
    {
     "name": "stderr",
     "output_type": "stream",
     "text": [
      "C:\\Users\\McArthur\\anaconda3\\lib\\site-packages\\sklearn\\base.py:450: UserWarning: X does not have valid feature names, but SGDClassifier was fitted with feature names\n",
      "  warnings.warn(\n"
     ]
    },
    {
     "data": {
      "text/plain": [
       "array([ True])"
      ]
     },
     "execution_count": 16,
     "metadata": {},
     "output_type": "execute_result"
    }
   ],
   "source": [
    "sgd_clf.predict([some_digit])"
   ]
  },
  {
   "cell_type": "markdown",
   "id": "2dfbe0a2-45e8-4044-a61b-54a5d638942a",
   "metadata": {},
   "source": [
    "# Performance Measures\n",
    "\n",
    "Evaluating a classifier is often significantly trickier than evaluating a regressor"
   ]
  },
  {
   "cell_type": "markdown",
   "id": "d7c073e1-ae37-4c7f-baa7-fc9b5a5907b0",
   "metadata": {},
   "source": [
    "## Measuring Accuracy Using Cross-validation"
   ]
  },
  {
   "cell_type": "code",
   "execution_count": 17,
   "id": "38998ae1-1280-4d0a-a466-7ea90f4e9c13",
   "metadata": {},
   "outputs": [
    {
     "name": "stdout",
     "output_type": "stream",
     "text": [
      "0.96465\n",
      "0.9634\n",
      "0.95575\n"
     ]
    }
   ],
   "source": [
    "from sklearn.model_selection import StratifiedKFold\n",
    "from sklearn.base import clone\n",
    "\n",
    "#To perform Stratified sampling to produce folds that are adequately\n",
    "#representative of each class\n",
    "\n",
    "skfolds = StratifiedKFold(n_splits=3, shuffle=True)\n",
    "\n",
    "for train_index, test_index in skfolds.split(X_train, y_train_5):\n",
    "    \n",
    "    clone_clf = clone(sgd_clf)\n",
    "    \n",
    "    X_train_folds = X_train.iloc[train_index]\n",
    "    y_train_folds = y_train_5[train_index]\n",
    "    \n",
    "    X_test_fold = X_train.iloc[test_index]\n",
    "    y_test_fold = y_train_5[test_index]\n",
    "    \n",
    "    clone_clf.fit(X_train_folds, y_train_folds)\n",
    "    y_pred = clone_clf.predict(X_test_fold)\n",
    "    n_correct = sum(y_pred == y_test_fold)\n",
    "    \n",
    "    print(n_correct / len(y_pred))\n",
    "                            \n",
    "            "
   ]
  },
  {
   "cell_type": "code",
   "execution_count": 18,
   "id": "c891a94f-0bce-495e-9f2e-7506d78e2684",
   "metadata": {},
   "outputs": [
    {
     "data": {
      "text/plain": [
       "array([0.95035, 0.96035, 0.9604 ])"
      ]
     },
     "execution_count": 18,
     "metadata": {},
     "output_type": "execute_result"
    }
   ],
   "source": [
    "from sklearn.model_selection import cross_val_score\n",
    "\n",
    "cross_val_score(sgd_clf, X_train, y_train_5, cv= 3, scoring='accuracy')"
   ]
  },
  {
   "cell_type": "code",
   "execution_count": 19,
   "id": "235ba5e1-d805-4112-9314-710d0ab4ede3",
   "metadata": {},
   "outputs": [],
   "source": [
    "from sklearn.base import BaseEstimator\n",
    "import numpy as np\n",
    "class Never5Classifier(BaseEstimator):\n",
    "    def fit(self, X,y=None):\n",
    "        pass\n",
    "    def predict(self, X):\n",
    "        #Predict ZERO/False/Not 5 for each instance i.e y_pred\n",
    "        return np.zeros((len(X), 1), dtype=bool)"
   ]
  },
  {
   "cell_type": "code",
   "execution_count": 20,
   "id": "c92554f2-2428-47ac-8b4d-328e4bcc4588",
   "metadata": {},
   "outputs": [
    {
     "data": {
      "text/plain": [
       "array([0.91125, 0.90855, 0.90915])"
      ]
     },
     "execution_count": 20,
     "metadata": {},
     "output_type": "execute_result"
    }
   ],
   "source": [
    "never_5_clf = Never5Classifier()\n",
    "cross_val_score(never_5_clf, X_train, y_train_5, cv=3, scoring='accuracy')"
   ]
  },
  {
   "cell_type": "markdown",
   "id": "ebce264f-4503-4abf-8009-7cd169e53465",
   "metadata": {},
   "source": [
    "Even if the model guesses that all the numbers are NOT 5, it will be correct over 90% of the time.\n",
    "\n",
    "This demonstrates why accuracy is generally not the preferred performance measure for ***classifiers***, especially when you are dealing with skewed datasets (i.e., when some classes are much more frequent than others)"
   ]
  },
  {
   "cell_type": "markdown",
   "id": "30c39a37-f178-46f1-9e24-36df7de2e96d",
   "metadata": {},
   "source": [
    "# Confusion Matrix\n",
    "\n",
    "The general idea is to count the number of times instances of class A are classified as class B. For example, to know the number of times the classifier confused images of 5s with 3s, you would\n",
    "look in the fifth row and third column of the confusion matrix."
   ]
  },
  {
   "cell_type": "code",
   "execution_count": 21,
   "id": "8581019a-5eb9-4a93-8202-e6927c27218c",
   "metadata": {},
   "outputs": [],
   "source": [
    "from sklearn.model_selection import cross_val_predict\n",
    "\n",
    "y_train_pred = cross_val_predict(sgd_clf,X_train, y_train_5, cv=3)"
   ]
  },
  {
   "cell_type": "markdown",
   "id": "38374c6d-ade7-454b-89f6-c6d89b664af3",
   "metadata": {},
   "source": [
    "Just like the cross_val_score() function, cross_val_predict()\n",
    "performs K-fold cross-validation, but instead of returning the evaluation scores, it returns the predictions made on each test fold. This means that you get a clean prediction for each instance in the training set (“clean” meaning that the prediction is made by a model that never saw the data during training).\n"
   ]
  },
  {
   "cell_type": "code",
   "execution_count": 22,
   "id": "a8855573-c869-4641-bd0b-9968de6a12a7",
   "metadata": {},
   "outputs": [
    {
     "data": {
      "text/plain": [
       "<AxesSubplot:>"
      ]
     },
     "execution_count": 22,
     "metadata": {},
     "output_type": "execute_result"
    },
    {
     "data": {
      "image/png": "[encoded data removed]",
      "text/plain": [
       "<Figure size 432x288 with 1 Axes>"
      ]
     },
     "metadata": {
      "needs_background": "light"
     },
     "output_type": "display_data"
    }
   ],
   "source": [
    "from sklearn.metrics import confusion_matrix\n",
    "import seaborn as sns\n",
    "\n",
    "cm = confusion_matrix(y_train_5, y_train_pred)\n",
    "sns.heatmap(cm,cmap='YlGnBu',\n",
    "            cbar=False,annot=True,\n",
    "            fmt='d',linewidths=1.0,\n",
    "            xticklabels=['Not Five','Five'],\n",
    "            yticklabels=['Not Five','Five'],\n",
    "            )"
   ]
  },
  {
   "cell_type": "markdown",
   "id": "7e370d04-7f6f-4f38-b7a0-d3cbed9e087b",
   "metadata": {},
   "source": [
    "A perfect classifier would have only true positives and true\n",
    "negatives, so its confusion matrix would have nonzero values only on its main diagonal (top left to bottom right):\n",
    "\n",
    " "
   ]
  },
  {
   "cell_type": "code",
   "execution_count": 23,
   "id": "6973559a-f450-4c60-87b7-10f81e5b45c1",
   "metadata": {},
   "outputs": [
    {
     "data": {
      "text/plain": [
       "(2, 2)"
      ]
     },
     "execution_count": 23,
     "metadata": {},
     "output_type": "execute_result"
    }
   ],
   "source": [
    "perfect_clf_cm = np.array([[54579,0],[0, 5421]])\n",
    "perfect_clf_cm.shape"
   ]
  },
  {
   "cell_type": "code",
   "execution_count": 24,
   "id": "401bd146-8ea6-4a64-bbb9-cd8ebc61202e",
   "metadata": {},
   "outputs": [
    {
     "data": {
      "text/plain": [
       "<AxesSubplot:>"
      ]
     },
     "execution_count": 24,
     "metadata": {},
     "output_type": "execute_result"
    },
    {
     "data": {
      "image/png": "[encoded data removed]",
      "text/plain": [
       "<Figure size 432x288 with 1 Axes>"
      ]
     },
     "metadata": {
      "needs_background": "light"
     },
     "output_type": "display_data"
    }
   ],
   "source": [
    "sns.heatmap(perfect_clf_cm,cmap='YlGnBu',\n",
    "            cbar=False,annot=True,\n",
    "            fmt='d',linewidths=1.0,\n",
    "            xticklabels=['Not Five','Five'],\n",
    "            yticklabels=['Not Five','Five'],\n",
    "           )"
   ]
  },
  {
   "cell_type": "markdown",
   "id": "7f4585b6-8059-400b-8581-b9a46c29344c",
   "metadata": {},
   "source": [
    "# Precision and Recall\n",
    "\n",
    "The **precision** of the classifier is the *accuracy* of the positive predictions.\n",
    "\n",
    "It is typically used along with another metric named\n",
    "**recall**, also called sensitivity or the true positive rate (TPR): this is the ratio of positive instances that are correctly detected by the classifier\n"
   ]
  },
  {
   "cell_type": "code",
   "execution_count": 25,
   "id": "f53f775b-1b3a-4601-b139-15053c2a94bd",
   "metadata": {},
   "outputs": [
    {
     "data": {
      "text/plain": [
       "0.8370879772350012"
      ]
     },
     "execution_count": 25,
     "metadata": {},
     "output_type": "execute_result"
    }
   ],
   "source": [
    "from sklearn.metrics import precision_score, recall_score, f1_score\n",
    "precision_score(y_train_5,y_train_pred)"
   ]
  },
  {
   "cell_type": "code",
   "execution_count": 26,
   "id": "43efafb2-7757-4436-8370-344a852712a8",
   "metadata": {},
   "outputs": [
    {
     "data": {
      "text/plain": [
       "0.6511713705958311"
      ]
     },
     "execution_count": 26,
     "metadata": {},
     "output_type": "execute_result"
    }
   ],
   "source": [
    "recall_score(y_train_5,y_train_pred)"
   ]
  },
  {
   "cell_type": "markdown",
   "id": "a4183737-f1d9-4eab-81f5-06d2f8410164",
   "metadata": {},
   "source": [
    "The 5-detector does not look as shiny as it did when assessed by its accuracy. When it claims an image represents a 5, it is correct only 83.7% of the time. Moreover, it only detects 65.1% of the 5s"
   ]
  },
  {
   "cell_type": "markdown",
   "id": "f28f821b-7b11-46ea-87fa-510de6d6dd81",
   "metadata": {
    "tags": []
   },
   "source": [
    "## F1 Score\n",
    "\n",
    "The F1 score is the harmonic mean of precision and recall. Whereas the regular mean treats all values equally, the harmonic mean gives much more weight to low values. As a result, the classifier will only get a high F score if both recall and precision are high.\n",
    "\n",
    "The F1 score favors classifiers that have similar precision and recall. This is not always what you want: in some contexts you mostly care about precision, and in other contexts you really care about recall"
   ]
  },
  {
   "cell_type": "code",
   "execution_count": 27,
   "id": "617f121e-58e6-48d9-a2f2-14e3b5e1af8e",
   "metadata": {},
   "outputs": [
    {
     "data": {
      "text/plain": [
       "0.7325171197343846"
      ]
     },
     "execution_count": 27,
     "metadata": {},
     "output_type": "execute_result"
    }
   ],
   "source": [
    "f1_score(y_train_5, y_train_pred)"
   ]
  },
  {
   "cell_type": "markdown",
   "id": "654958fe-7c55-4f1b-a733-15c5c1f34e44",
   "metadata": {},
   "source": [
    "## Precision/Recall Trade-off\n",
    "\n",
    "Raising the threshold  increases the precision. Conversely, lowering the threshold increases recall and reduces precision.\n",
    "\n",
    "Scikit-Learn does not let you set the threshold directly, but it does give you access to the decision scores that it uses to make predictions. Instead of calling the classifier’s predict() method, you can call its decision_function() method, which returns a score for each instance, and then use any threshold you want to make predictions based on those scores:\n"
   ]
  },
  {
   "cell_type": "code",
   "execution_count": 28,
   "id": "b3601c8e-0bbb-47b9-ab3e-a41ac3062cfb",
   "metadata": {},
   "outputs": [
    {
     "name": "stderr",
     "output_type": "stream",
     "text": [
      "C:\\Users\\McArthur\\anaconda3\\lib\\site-packages\\sklearn\\base.py:450: UserWarning: X does not have valid feature names, but SGDClassifier was fitted with feature names\n",
      "  warnings.warn(\n"
     ]
    },
    {
     "data": {
      "text/plain": [
       "array([2164.22030239])"
      ]
     },
     "execution_count": 28,
     "metadata": {},
     "output_type": "execute_result"
    }
   ],
   "source": [
    "y_scores = sgd_clf.decision_function([some_digit])\n",
    "y_scores"
   ]
  },
  {
   "cell_type": "code",
   "execution_count": 29,
   "id": "5fa321c0-136e-43dd-88bd-30d07b1cd2e6",
   "metadata": {},
   "outputs": [
    {
     "data": {
      "text/plain": [
       "array([ True])"
      ]
     },
     "execution_count": 29,
     "metadata": {},
     "output_type": "execute_result"
    }
   ],
   "source": [
    "threshold = 0\n",
    "y_some_digit_pred = (y_scores > threshold)\n",
    "y_some_digit_pred"
   ]
  },
  {
   "cell_type": "markdown",
   "id": "ed06a6e4-cf58-4c2b-9736-644b0a5b94f6",
   "metadata": {},
   "source": [
    "## Selecting Threshold"
   ]
  },
  {
   "cell_type": "code",
   "execution_count": 30,
   "id": "7826863c-b52b-42b8-b9fb-d84c3cf299a8",
   "metadata": {},
   "outputs": [],
   "source": [
    "y_scores = cross_val_predict(sgd_clf, X_train, y_train_5, cv=3,\n",
    "method=\"decision_function\")\n",
    "\n",
    "from sklearn.metrics import precision_recall_curve\n",
    "\n",
    "precisions, recalls, thresholds = precision_recall_curve(y_train_5, y_scores)"
   ]
  },
  {
   "cell_type": "code",
   "execution_count": 31,
   "id": "1d3c8a25-ef5f-45ce-9130-5240ef4ea2ce",
   "metadata": {},
   "outputs": [
    {
     "data": {
      "text/plain": [
       "(59966,)"
      ]
     },
     "execution_count": 31,
     "metadata": {},
     "output_type": "execute_result"
    }
   ],
   "source": [
    "thresholds.shape"
   ]
  },
  {
   "cell_type": "code",
   "execution_count": 32,
   "id": "3925387a-9d80-4350-a758-b01dba665d64",
   "metadata": {},
   "outputs": [
    {
     "data": {
      "image/png": "[encoded data removed]",
      "text/plain": [
       "<Figure size 432x288 with 1 Axes>"
      ]
     },
     "metadata": {
      "needs_background": "light"
     },
     "output_type": "display_data"
    }
   ],
   "source": [
    "def plot_precision_recall_vs_threshold(precisions, recalls, thresholds):\n",
    "    plt.plot(thresholds, precisions[:-1], \"b--\", label=\"Precision\")\n",
    "    plt.plot(thresholds, recalls[:-1], \"g-\", label=\"Recall\")\n",
    "    plt.legend()\n",
    "    plt.xlabel(\"Threshold\",size='xx-large')\n",
    "    plt.grid()\n",
    "   # highlight the threshold and add the legend, axis label, and grid\n",
    "\n",
    "plot_precision_recall_vs_threshold(precisions, recalls, thresholds)"
   ]
  },
  {
   "cell_type": "markdown",
   "id": "3e0bfeb7-ad4d-45b0-a3a0-37ea8e85053e",
   "metadata": {},
   "source": [
    "Another way to select a good precision/recall trade-off is to plot precision directly against recall"
   ]
  },
  {
   "cell_type": "code",
   "execution_count": 33,
   "id": "be421ecb-325e-4b31-881a-0c103fec5162",
   "metadata": {},
   "outputs": [
    {
     "data": {
      "image/png": "[encoded data removed]",
      "text/plain": [
       "<Figure size 432x288 with 1 Axes>"
      ]
     },
     "metadata": {
      "needs_background": "light"
     },
     "output_type": "display_data"
    }
   ],
   "source": [
    "def plot_precision_vs_recall(precisions, recalls):\n",
    "    plt.plot(recalls, precisions, \"b-\")\n",
    "    plt.xlabel(\"Recall\",size='xx-large')\n",
    "    plt.ylabel(\"Precision\", size='xx-large')\n",
    "    plt.grid()\n",
    "    plt.xlim(left=0,right=1)\n",
    "    plt.ylim(top=1,bottom=0)\n",
    "   # highlight the threshold and add the legend, axis label, and grid\n",
    "plot_precision_vs_recall(precisions, recalls)"
   ]
  },
  {
   "cell_type": "markdown",
   "id": "a79b2176-22cc-4145-9a37-446957ff2c1d",
   "metadata": {},
   "source": [
    "Suppose you decide to aim for 90% precision, you can search for the lowest threshold that gives you at least 90% precision (np.argmax() will give you the first index of the maximum value, which in this case means the first True value)"
   ]
  },
  {
   "cell_type": "code",
   "execution_count": 34,
   "id": "81408655-bd3b-43dc-aab2-8d3dba7acbe0",
   "metadata": {},
   "outputs": [
    {
     "name": "stdout",
     "output_type": "stream",
     "text": [
      "3370.0194991439557\n"
     ]
    }
   ],
   "source": [
    "threshold_90_precision = thresholds[np.argmax(precisions >= 0.90)]\n",
    "print(threshold_90_precision)"
   ]
  },
  {
   "cell_type": "markdown",
   "id": "f6a5fc2f-d2a6-43b7-9c89-c590764663d2",
   "metadata": {},
   "source": [
    "To make predictions (on the training set for now), instead of calling the classifier’s predict() method, you can run this code"
   ]
  },
  {
   "cell_type": "code",
   "execution_count": 35,
   "id": "21eedb1b-6b24-4192-804f-2de6e7be966f",
   "metadata": {},
   "outputs": [
    {
     "data": {
      "text/plain": [
       "0.9000345901072293"
      ]
     },
     "execution_count": 35,
     "metadata": {},
     "output_type": "execute_result"
    }
   ],
   "source": [
    "#Prediction\n",
    "y_train_pred_90 = (y_scores >= threshold_90_precision)\n",
    "\n",
    "#Predictions's precision and recall\n",
    "precision_score(y_train_5,y_train_pred_90)"
   ]
  },
  {
   "cell_type": "code",
   "execution_count": 36,
   "id": "106a5445-3672-48a2-864e-5ecb7bcf1d95",
   "metadata": {},
   "outputs": [
    {
     "data": {
      "text/plain": [
       "0.4799852425751706"
      ]
     },
     "execution_count": 36,
     "metadata": {},
     "output_type": "execute_result"
    }
   ],
   "source": [
    "recall_score(y_train_5,y_train_pred_90)"
   ]
  },
  {
   "cell_type": "markdown",
   "id": "0ec85969-3cdd-47d3-9b77-dbd90fd0d420",
   "metadata": {},
   "source": [
    "It is fairly easy to create a classifier with virtually any precision you want: just set a high enough threshold, and you’re done. \n",
    "\n",
    "**However, a high-precision classifier is not very useful if its recall is too low**\n"
   ]
  },
  {
   "cell_type": "markdown",
   "id": "d5fa30d9-3bd5-4115-8ebe-aee209d1ccd0",
   "metadata": {},
   "source": [
    "## The ROC Curve\n",
    "The *receiver operating characteristic* (ROC) curve is another common tool used with binary classifiers. It is very similar to the precision/recall curve, but instead of plotting precision versus recall, the ROC curve plots the true positive rate (recall) against the false positive rate (FPR)."
   ]
  },
  {
   "cell_type": "code",
   "execution_count": 37,
   "id": "3703ec65-836f-481a-afb4-246e5568e732",
   "metadata": {},
   "outputs": [
    {
     "data": {
      "image/png": "[encoded data removed]",
      "text/plain": [
       "<Figure size 432x288 with 1 Axes>"
      ]
     },
     "metadata": {
      "needs_background": "light"
     },
     "output_type": "display_data"
    }
   ],
   "source": [
    "from sklearn.metrics import roc_curve\n",
    "\n",
    "fpr, tpr, thresholds = roc_curve(y_train_5, y_scores)\n",
    "\n",
    "def plot_roc_curve(fpr,tpr, label=None):\n",
    "    plt.plot(fpr,tpr, linewidth=2,label=label)\n",
    "    plt.plot([0,1],[0,1], 'k--')\n",
    "    plt.grid()\n",
    "    plt.ylabel(\"True Positive Rate (Recall)\")\n",
    "    plt.xlabel(\"False Positive Rate (Specificity)\")\n",
    "    plt.xlim(left=0,right=1)\n",
    "    plt.ylim(top=1,bottom=0)\n",
    "    \n",
    "plot_roc_curve(fpr, tpr)\n",
    "plt.show()"
   ]
  },
  {
   "cell_type": "markdown",
   "id": "93f7de86-0698-4840-aa25-049241aec796",
   "metadata": {},
   "source": [
    "The dotted line represents the ROC curve of a purely random classifier; a good classifier stays as far away from\n",
    "that line as possible (toward the top-left corner).\n",
    "\n",
    "One way to compare classifiers is to measure the area under the curve (AUC). A perfect classifier will have a ROC AUC equal to 1, whereas a purely random classifier will have a ROC AUC equal to 0.5. Scikit-Learn provides a function to compute the ROC AUC"
   ]
  },
  {
   "cell_type": "code",
   "execution_count": 38,
   "id": "26edd27b-b271-4143-ba21-8afbbef7f02b",
   "metadata": {},
   "outputs": [
    {
     "data": {
      "text/plain": [
       "0.9604938554008616"
      ]
     },
     "execution_count": 38,
     "metadata": {},
     "output_type": "execute_result"
    }
   ],
   "source": [
    "from sklearn.metrics import roc_auc_score\n",
    "\n",
    "roc_auc_score(y_train_5, y_scores)"
   ]
  },
  {
   "cell_type": "markdown",
   "id": "eccf1427-42ee-4e7d-a7bc-54f5c3a5bc18",
   "metadata": {},
   "source": [
    "As a rule of thumb, you should prefer the PR curve whenever the positive class is **rare** or when you care more about the false positives than the false negatives (precision). \n",
    "\n",
    "Otherwise, use the ROC curve. For example, looking at the previous\n",
    "ROC curve (and the ROC AUC score), you may think that the classifier is really good. But this is mostly because there are few positives (5s) compared to the negatives (non5s). \n",
    "\n",
    "In contrast, the PR curve makes it clear that the classifier has room for improvement (the curve could be closer to the top-left corner) i.e low precision\n"
   ]
  },
  {
   "cell_type": "markdown",
   "id": "5dd75a41-1641-4b65-b72b-8ac6259641e2",
   "metadata": {},
   "source": [
    "# Training a Random Forest Classifier"
   ]
  },
  {
   "cell_type": "code",
   "execution_count": 39,
   "id": "42d9d347-f73f-4219-88da-ef55e02dd49e",
   "metadata": {},
   "outputs": [
    {
     "data": {
      "text/plain": [
       "(60000, 2)"
      ]
     },
     "execution_count": 39,
     "metadata": {},
     "output_type": "execute_result"
    }
   ],
   "source": [
    "from sklearn.ensemble import RandomForestClassifier\n",
    "\n",
    "forest_clf = RandomForestClassifier(random_state=42)\n",
    "y_probas_forest = cross_val_predict(forest_clf, X_train, y_train_5, cv=3,method='predict_proba')\n",
    "y_probas_forest.shape"
   ]
  },
  {
   "cell_type": "code",
   "execution_count": 40,
   "id": "5a0d3e0b-8cc5-4dda-906d-e00616235055",
   "metadata": {},
   "outputs": [],
   "source": [
    "#predict_proba returns an array\n",
    "y_scores_forest = y_probas_forest[:,1] # proba of positive class\n",
    "\n",
    "fpr_forest, tpr_forest, thresholds_forest = roc_curve(y_train_5,y_scores_forest)"
   ]
  },
  {
   "cell_type": "markdown",
   "id": "0976c1de-a03c-43fa-814a-1220fe535f89",
   "metadata": {},
   "source": [
    "## ROC Curve"
   ]
  },
  {
   "cell_type": "code",
   "execution_count": 41,
   "id": "226002e1-825f-4ee5-8bf8-84604bb6dcc4",
   "metadata": {},
   "outputs": [
    {
     "data": {
      "image/png": "[encoded data removed]",
      "text/plain": [
       "<Figure size 432x288 with 1 Axes>"
      ]
     },
     "metadata": {
      "needs_background": "light"
     },
     "output_type": "display_data"
    }
   ],
   "source": [
    "plt.plot(fpr,tpr,'b:',label='SGD')\n",
    "plot_roc_curve(fpr_forest, tpr_forest, \"Random Forest\")\n",
    "plt.legend(loc='lower right')\n",
    "plt.xlim(left=0,right=1)\n",
    "plt.ylim(top=1,bottom=0)\n",
    "plt.show()"
   ]
  },
  {
   "cell_type": "code",
   "execution_count": 42,
   "id": "6645df71-b8bf-4c64-923c-1bf288bed4b1",
   "metadata": {},
   "outputs": [
    {
     "data": {
      "text/plain": [
       "0.9983436731328145"
      ]
     },
     "execution_count": 42,
     "metadata": {},
     "output_type": "execute_result"
    }
   ],
   "source": [
    "roc_auc_score(y_train_5, y_scores_forest)"
   ]
  },
  {
   "cell_type": "markdown",
   "id": "b6551ce7-c061-4a51-acf9-7c3ccc6c4dfb",
   "metadata": {},
   "source": [
    "## PR Curve"
   ]
  },
  {
   "cell_type": "code",
   "execution_count": 43,
   "id": "dc2f0d29-5bb0-47a9-b469-fbcb58b8cd18",
   "metadata": {},
   "outputs": [
    {
     "data": {
      "image/png": "[encoded data removed]",
      "text/plain": [
       "<Figure size 432x288 with 1 Axes>"
      ]
     },
     "metadata": {
      "needs_background": "light"
     },
     "output_type": "display_data"
    }
   ],
   "source": [
    "precision, recall, thresholds = precision_recall_curve(y_train_5, y_scores_forest)\n",
    "plot_precision_vs_recall(precision, recall)"
   ]
  }
 ],
 "metadata": {
  "kernelspec": {
   "display_name": "Python 3 (ipykernel)",
   "language": "python",
   "name": "python3"
  },
  "language_info": {
   "codemirror_mode": {
    "name": "ipython",
    "version": 3
   },
   "file_extension": ".py",
   "mimetype": "text/x-python",
   "name": "python",
   "nbconvert_exporter": "python",
   "pygments_lexer": "ipython3",
   "version": "3.9.12"
  }
 },
 "nbformat": 4,
 "nbformat_minor": 5
}
